{
 "cells": [
  {
   "cell_type": "markdown",
   "id": "bb965b3d",
   "metadata": {},
   "source": [
    "# Survey"
   ]
  },
  {
   "cell_type": "code",
   "execution_count": null,
   "id": "6cae92b9",
   "metadata": {},
   "outputs": [],
   "source": [
    "import pandas as pd"
   ]
  },
  {
   "cell_type": "code",
   "execution_count": null,
   "id": "67f53001",
   "metadata": {},
   "outputs": [],
   "source": [
    "def get_user_input(question):\n",
    "    while True:\n",
    "        try:\n",
    "            response = int(input(question))\n",
    "            if 0 <= response <= 100:\n",
    "                return response\n",
    "            else:\n",
    "                print(\"Please enter an number between 0 and 100.\")\n",
    "        except ValueError:\n",
    "            print(\"Invalid input. Please enter a valid integer value.\")"
   ]
  },
  {
   "cell_type": "code",
   "execution_count": null,
   "id": "8210448b",
   "metadata": {},
   "outputs": [],
   "source": [
    "def print_instructions():\n",
    "    print(\"Welcome to the NBA Basketball PlayStyle Profiler Survey!\")\n",
    "    print(80 * '-')\n",
    "    print(\" * We will prompt you with some questions about your basketball playstyle and overall skill.\")\n",
    "    print(80 * '-')\n",
    "    print(\" * We will ask you to rate yourself from 0 to 100 for each question.\")\n",
    "    print(\" * Your rating will represent your opinion for the percentile for that skill.\")\n",
    "    print(\" * For example, if you rated yourself an 80 for catch and shoot ability, \")\n",
    "    print(\"you believe that you are better than or as good as 80% of players in catch/shoot scenarios.\")\n",
    "    print(80 * '-')\n",
    "    print(\" * Adjust your rating scale for the people you play with most frequently.\")\n",
    "    print(\" * Please answer honestly for the best results.\")\n",
    "    print(80 * '-')\n",
    "    print(\" * Please rate the following aspects of your basketball play from 0 to 100:\")\n",
    "\n",
    "def basketball_survey():    \n",
    "    scoring = get_user_input(\"Scoring ability: How skilled of a scorer are you?   \")\n",
    "    rebounding = get_user_input(\"Rebounding skill: How skilled are you at getting the ball off missed shots?   \")\n",
    "    playmaking = get_user_input(\"Playmaking skill: How good are you at setting up teammates for scoring opportunities?   \")\n",
    "    board_activity = get_user_input(\"Activity on the boards: How actively do you pursue rebounds?   \")\n",
    "    steals = get_user_input(\"Defensive hands: How skilled are you at stealing the ball from opponents?   \")\n",
    "    blocks = get_user_input(\"Rim protection: How skilled are you at blocking opponents' shots?   \")\n",
    "    shooting_efficiency = get_user_input(\"Shooting efficiency: How efficient of a shooter are you?   \")\n",
    "    three_point_shooting_efficiency = get_user_input(\"3PT Shooting efficiency: How efficient of a 3PT shooter are you?   \")\n",
    "    catch_shoot = get_user_input(\"Catch and shoot: How good is your catch and shoot game?   \")\n",
    "    ball_handling = get_user_input(\"Ball handling: How well do you handle the ball?   \")\n",
    "    passing_rating = get_user_input(\"Overall passing: How well/often do you pass the ball?   \")\n",
    "    turnover_ratio = get_user_input(\"Turnovers: How well do you take care of the ball (prevent turnovers)?   \")\n",
    "    three_point_freq = get_user_input(\"Three-point frequency: How often do you shoot 3-pointers?   \")\n",
    "    post_up = get_user_input(\"Post-up frequency: How often do you post-up?   \")\n",
    "    driving = get_user_input(\"Driving: How well do you score when driving into the paint?   \")\n",
    "    mid_range_shooting = get_user_input(\"Mid-range shooting frequency: How well/often do you shoot from mid-range?   \")\n",
    "    defense_rating = get_user_input(\"Defensive effectiveness: How good of an overall defender are you?   \")\n",
    "    clutch_performance = get_user_input(\"Clutch performance: How clutch are you? (How well do you score in clutch moments?)   \")\n",
    "    fast_break = get_user_input(\"Fast break points: How often do you score on fast breaks?   \")\n",
    "    second_chance = get_user_input(\"Second chance points: How often do you score on second chance opportunities?   \")\n",
    "    team_impact = get_user_input(\"Team impact: How impactful are you to your team's overall performance?   \")\n",
    "    \n",
    "    # Return the collected data as a dictionary\n",
    "    playstyle_dict = {\n",
    "        \"SCORING\": [scoring],\n",
    "        \"REBOUNDING\": [rebounding],\n",
    "        \"PLAYMAKING\": [playmaking],\n",
    "        \"BOARD_ACTIVITY\": [board_activity],\n",
    "        \"STEALS\": [steals],\n",
    "        \"BLOCKING\": [blocks],\n",
    "        \"SHOOTING_EFFICIENCY\": [shooting_efficiency],\n",
    "        \"3PT_SHOOTING_EFFICIENCY\": [three_point_shooting_efficiency],\n",
    "        \"CATCH_AND_SHOOT\": [catch_shoot],\n",
    "        \"BALL_HANDLING\": [ball_handling],\n",
    "        \"PASSING\": [passing_rating],\n",
    "        \"TURNOVERS\": [turnover_ratio],\n",
    "        \"3PT_FREQ\": [three_point_freq],\n",
    "        \"POST_UP\": [post_up],\n",
    "        \"DRIVING\": [driving],\n",
    "        \"MID-RANGE\": [mid_range_shooting],\n",
    "        \"DEFENSE\": [defense_rating],\n",
    "        \"CLUTCHNESS\": [clutch_performance],\n",
    "        \"FAST_BREAK\": [fast_break],\n",
    "        \"SECOND_CHANCE\": [second_chance],\n",
    "        \"TEAM_IMPACT\": [team_impact]\n",
    "    }\n",
    "    \n",
    "    index = [1]\n",
    "    \n",
    "    playstyle_df = pd.DataFrame(playstyle_dict, index=index)\n",
    "    \n",
    "    return playstyle_df"
   ]
  },
  {
   "cell_type": "code",
   "execution_count": null,
   "id": "1f794dcc",
   "metadata": {},
   "outputs": [],
   "source": [
    "# Run the survey\n",
    "if __name__ == \"__main__\":\n",
    "    print_instructions()\n",
    "    user_profile_df = basketball_survey()"
   ]
  },
  {
   "cell_type": "code",
   "execution_count": null,
   "id": "374e6ecd",
   "metadata": {},
   "outputs": [],
   "source": [
    "user_profile_df"
   ]
  },
  {
   "cell_type": "code",
   "execution_count": null,
   "id": "141288e9",
   "metadata": {},
   "outputs": [],
   "source": []
  }
 ],
 "metadata": {
  "kernelspec": {
   "display_name": "Python 3 (ipykernel)",
   "language": "python",
   "name": "python3"
  },
  "language_info": {
   "codemirror_mode": {
    "name": "ipython",
    "version": 3
   },
   "file_extension": ".py",
   "mimetype": "text/x-python",
   "name": "python",
   "nbconvert_exporter": "python",
   "pygments_lexer": "ipython3",
   "version": "3.10.4"
  }
 },
 "nbformat": 4,
 "nbformat_minor": 5
}
