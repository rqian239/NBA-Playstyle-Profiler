{
 "cells": [
  {
   "cell_type": "code",
   "execution_count": null,
   "id": "1f794dcc",
   "metadata": {},
   "outputs": [
    {
     "name": "stdout",
     "output_type": "stream",
     "text": [
      "Welcome to the Basketball Play Style Profilier Survey!\n",
      "Please rate the following aspects of your basketball play from 0 to 100:\n"
     ]
    }
   ],
   "source": [
    "def get_user_input(question):\n",
    "    while True:\n",
    "        try:\n",
    "            response = int(input(question))\n",
    "            if 0 <= response <= 100:\n",
    "                return response\n",
    "            else:\n",
    "                print(\"Please enter an integer between 0 and 100.\")\n",
    "        except ValueError:\n",
    "            print(\"Invalid input. Please enter a valid integer value.\")\n",
    "\n",
    "def basketball_survey():\n",
    "    print(\"Welcome to the Basketball Play Style Profilier Survey!\")\n",
    "    print(\"Please rate the following aspects of your basketball play from 0 to 100:\")\n",
    "    \n",
    "    scoring = get_user_input(\"Scoring ability: How skilled of a scorer are you? \")\n",
    "    rebounding = get_user_input(\"Rebounding skill: How skilled are you at getting the ball off missed shots? \")\n",
    "    playmaking = get_user_input(\"Playmaking skill: How good are you at setting up teammates for scoring opportunities? \")\n",
    "    board_activity = get_user_input(\"Activity on the boards: How actively do you pursue rebounds? \")\n",
    "    steals = get_user_input(\"Defensive hands: How skilled are you at stealing the ball from opponents? \")\n",
    "    blocks = get_user_input(\"Rim protection: How skilled are you at blocking opponents' shots? \")\n",
    "    shooting_efficiency = get_user_input(\"Shooting efficiency: How efficient of a shooter are you? \")\n",
    "    three_point_shooting_efficiency = get_user_input(\"3PT Shooting efficiency: How efficient of a 3PT shooter are you? \")\n",
    "    catch_shoot = get_user_input(\"Catch and shoot: How good is your catch and shoot game? \")\n",
    "    ball_handling = get_user_input(\"Ball handling: How often do you have the ball in your hands? \")\n",
    "    passing_rating = get_user_input(\"Advanced passing: How well do you pass the ball? \")\n",
    "    turnover_ratio = get_user_input(\"Turnover percentage: How often do you turn the ball over? \")\n",
    "    three_point_freq = get_user_input(\"Three-point frequency: How often do you shoot 3-pointers? \")\n",
    "    post_up = get_user_input(\"Post-up frequency: How often do you post-up? \")\n",
    "    driving = get_user_input(\"Driving frequency: How often do you drive the ball? \")\n",
    "    mid_range_shooting = get_user_input(\"Mid-range shooting frequency: How often do you shoot from mid-range? \")\n",
    "    defense_rating = get_user_input(\"Defensive effectiveness: How good of a defender are you? \")\n",
    "    clutch_performance = get_user_input(\"Clutch performance: How clutch are you? (i.e. How well do you score in clutch moments?) \")\n",
    "    fast_break = get_user_input(\"Fast break points: How often do you score on fast breaks? \")\n",
    "    second_chance = get_user_input(\"Second chance points: How often do you score on second chance opportunities? \")\n",
    "    \n",
    "    # Return the collected data as a dictionary\n",
    "    return {\n",
    "        \"Scoring\": scoring,\n",
    "        \"Rebounding\": rebounding,\n",
    "        \"Playmaking\": playmaking,\n",
    "        \"Board Activity\": board_activity,\n",
    "        \"Steals\": steals,\n",
    "        \"Blocks\": blocks,\n",
    "        \"Shooting Efficiency\": shooting_efficiency,\n",
    "        \"3PT Shooting Efficiency\": three_point_shooting_efficiency,\n",
    "        \"Catch and Shoot\": catch_shoot,\n",
    "        \"Ball Handling\": ball_handling,\n",
    "        \"Passing Rating\": passing_rating,\n",
    "        \"Turnover Ratio\": turnover_ratio,\n",
    "        \"Three-point Frequency\": three_point_freq,\n",
    "        \"Post-Up\": post_up,\n",
    "        \"Driving\": driving,\n",
    "        \"Mid-Range Shooting\": mid_range_shooting,\n",
    "        \"Defense Rating\": defense_rating,\n",
    "        \"Clutch Performance\": clutch_performance,\n",
    "        \"Fast Break\": fast_break,\n",
    "        \"Second Chance\": second_chance\n",
    "    }\n",
    "\n",
    "# Run the survey\n",
    "if __name__ == \"__main__\":\n",
    "    user_profile = basketball_survey()"
   ]
  },
  {
   "cell_type": "code",
   "execution_count": null,
   "id": "374e6ecd",
   "metadata": {},
   "outputs": [],
   "source": []
  }
 ],
 "metadata": {
  "kernelspec": {
   "display_name": "Python 3 (ipykernel)",
   "language": "python",
   "name": "python3"
  },
  "language_info": {
   "codemirror_mode": {
    "name": "ipython",
    "version": 3
   },
   "file_extension": ".py",
   "mimetype": "text/x-python",
   "name": "python",
   "nbconvert_exporter": "python",
   "pygments_lexer": "ipython3",
   "version": "3.10.4"
  }
 },
 "nbformat": 4,
 "nbformat_minor": 5
}
