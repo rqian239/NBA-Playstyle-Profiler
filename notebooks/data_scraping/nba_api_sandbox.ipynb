{
 "cells": [
  {
   "cell_type": "markdown",
   "id": "b3e3ebb0",
   "metadata": {},
   "source": [
    "# NBA API Sandbox\n",
    "\n",
    "This notebook is meant for playing around with the nba_api package and testing out endpoints."
   ]
  },
  {
   "cell_type": "code",
   "execution_count": null,
   "id": "eb6c75ef",
   "metadata": {},
   "outputs": [],
   "source": [
    "from nba_api.stats.endpoints import leaguedashplayerstats"
   ]
  },
  {
   "cell_type": "code",
   "execution_count": null,
   "id": "653a7110",
   "metadata": {},
   "outputs": [],
   "source": [
    "base_player_stats = leaguedashplayerstats.LeagueDashPlayerStats(\n",
    "    season='2023-24', \n",
    "    per_mode_detailed='Per100Possessions', \n",
    "    season_type_all_star='Regular Season',\n",
    "    measure_type_detailed_defense='Base',\n",
    ")"
   ]
  },
  {
   "cell_type": "code",
   "execution_count": null,
   "id": "984ebf27",
   "metadata": {},
   "outputs": [],
   "source": [
    "base_players_df = base_player_stats.get_data_frames()[0]\n",
    "print(base_players_df.columns)\n",
    "base_players_df"
   ]
  },
  {
   "cell_type": "code",
   "execution_count": null,
   "id": "f838fe4c",
   "metadata": {},
   "outputs": [],
   "source": [
    "advanced_player_stats = leaguedashplayerstats.LeagueDashPlayerStats(\n",
    "    season='2023-24', \n",
    "    per_mode_detailed='Per100Possessions', \n",
    "    season_type_all_star='Regular Season',\n",
    "    measure_type_detailed_defense='Advanced',\n",
    ")"
   ]
  },
  {
   "cell_type": "code",
   "execution_count": null,
   "id": "efe6b292",
   "metadata": {},
   "outputs": [],
   "source": [
    "advanced_player_stats = advanced_player_stats.get_data_frames()[0]\n",
    "print(advanced_player_stats.columns)\n",
    "advanced_player_stats"
   ]
  },
  {
   "cell_type": "code",
   "execution_count": null,
   "id": "ff71d5fd",
   "metadata": {},
   "outputs": [],
   "source": [
    "misc_player_stats = leaguedashplayerstats.LeagueDashPlayerStats(\n",
    "    season='2023-24', \n",
    "    per_mode_detailed='Per100Possessions', \n",
    "    season_type_all_star='Regular Season',\n",
    "    measure_type_detailed_defense='Misc',\n",
    ")"
   ]
  },
  {
   "cell_type": "code",
   "execution_count": null,
   "id": "04c27597",
   "metadata": {},
   "outputs": [],
   "source": [
    "misc_player_stats = misc_player_stats.get_data_frames()[0]\n",
    "print(misc_player_stats.columns)\n",
    "misc_player_stats"
   ]
  },
  {
   "cell_type": "code",
   "execution_count": null,
   "id": "5b42a00d",
   "metadata": {},
   "outputs": [],
   "source": [
    "scoring_player_stats = leaguedashplayerstats.LeagueDashPlayerStats(\n",
    "    season='2023-24', \n",
    "    per_mode_detailed='Per100Possessions', \n",
    "    season_type_all_star='Regular Season',\n",
    "    measure_type_detailed_defense='Scoring',\n",
    ")"
   ]
  },
  {
   "cell_type": "code",
   "execution_count": null,
   "id": "c0b611c9",
   "metadata": {},
   "outputs": [],
   "source": [
    "scoring_player_stats = scoring_player_stats.get_data_frames()[0]\n",
    "print(scoring_player_stats.columns)\n",
    "scoring_player_stats"
   ]
  },
  {
   "cell_type": "code",
   "execution_count": null,
   "id": "047e3797",
   "metadata": {},
   "outputs": [],
   "source": [
    "usage_player_stats = leaguedashplayerstats.LeagueDashPlayerStats(\n",
    "    season='2023-24', \n",
    "    per_mode_detailed='Per100Possessions', \n",
    "    season_type_all_star='Regular Season',\n",
    "    measure_type_detailed_defense='Usage',\n",
    ")"
   ]
  },
  {
   "cell_type": "code",
   "execution_count": null,
   "id": "a65e29d7",
   "metadata": {},
   "outputs": [],
   "source": [
    "usage_player_stats = usage_player_stats.get_data_frames()[0]\n",
    "print(usage_player_stats.columns)\n",
    "usage_player_stats"
   ]
  },
  {
   "cell_type": "code",
   "execution_count": null,
   "id": "1fbe7a24",
   "metadata": {},
   "outputs": [],
   "source": [
    "defense_player_stats = leaguedashplayerstats.LeagueDashPlayerStats(\n",
    "    season='2023-24', \n",
    "    per_mode_detailed='Per100Possessions', \n",
    "    season_type_all_star='Regular Season',\n",
    "    measure_type_detailed_defense='Defense',\n",
    ")"
   ]
  },
  {
   "cell_type": "code",
   "execution_count": null,
   "id": "33a3c9c8",
   "metadata": {},
   "outputs": [],
   "source": [
    "defense_player_stats = defense_player_stats.get_data_frames()[0]\n",
    "print(defense_player_stats.columns)\n",
    "defense_player_stats"
   ]
  },
  {
   "cell_type": "code",
   "execution_count": null,
   "id": "c83618c3",
   "metadata": {},
   "outputs": [],
   "source": [
    "from nba_api.stats.endpoints import leaguedashptstats"
   ]
  },
  {
   "cell_type": "code",
   "execution_count": null,
   "id": "ec90bd89",
   "metadata": {},
   "outputs": [],
   "source": [
    "catch_and_shoot_player_stats = leaguedashptstats.LeagueDashPtStats(\n",
    "    season='2023-24', \n",
    "    season_type_all_star='Regular Season',\n",
    "    player_or_team='Player',\n",
    "    pt_measure_type='CatchShoot',\n",
    "    per_mode_simple='PerGame'\n",
    ")\n",
    "\n",
    "catch_and_shoot_player_stats_df = catch_and_shoot_player_stats.get_data_frames()[0]\n",
    "print(catch_and_shoot_player_stats_df.columns)\n",
    "catch_and_shoot_player_stats_df"
   ]
  },
  {
   "cell_type": "code",
   "execution_count": null,
   "id": "000414b1",
   "metadata": {},
   "outputs": [],
   "source": [
    "drives_player_stats = leaguedashptstats.LeagueDashPtStats(\n",
    "    season='2023-24', \n",
    "    season_type_all_star='Regular Season',\n",
    "    player_or_team='Player',\n",
    "    pt_measure_type='Drives',\n",
    "    per_mode_simple='PerGame'\n",
    ")\n",
    "\n",
    "drives_player_stats_df = drives_player_stats.get_data_frames()[0]\n",
    "print(drives_player_stats_df.columns)\n",
    "drives_player_stats_df"
   ]
  },
  {
   "cell_type": "code",
   "execution_count": null,
   "id": "38d88dc2",
   "metadata": {},
   "outputs": [],
   "source": [
    "pull_up_shot_player_stats = leaguedashptstats.LeagueDashPtStats(\n",
    "    season='2023-24', \n",
    "    season_type_all_star='Regular Season',\n",
    "    player_or_team='Player',\n",
    "    pt_measure_type='PullUpShot',\n",
    "    per_mode_simple='PerGame'\n",
    ")\n",
    "\n",
    "pull_up_shot_player_stats_df = pull_up_shot_player_stats.get_data_frames()[0]\n",
    "print(pull_up_shot_player_stats_df.columns)\n",
    "pull_up_shot_player_stats_df"
   ]
  },
  {
   "cell_type": "code",
   "execution_count": null,
   "id": "7d8df7e3",
   "metadata": {},
   "outputs": [],
   "source": [
    "post_touch_player_stats = leaguedashptstats.LeagueDashPtStats(\n",
    "    season='2023-24', \n",
    "    season_type_all_star='Regular Season',\n",
    "    player_or_team='Player',\n",
    "    pt_measure_type='PostTouch',\n",
    "    per_mode_simple='PerGame'\n",
    ")\n",
    "\n",
    "post_touch_player_stats_df = post_touch_player_stats.get_data_frames()[0]\n",
    "print(post_touch_player_stats_df.columns)\n",
    "post_touch_player_stats_df"
   ]
  },
  {
   "cell_type": "code",
   "execution_count": null,
   "id": "18cb30b4",
   "metadata": {},
   "outputs": [],
   "source": [
    "paint_touch_player_stats = leaguedashptstats.LeagueDashPtStats(\n",
    "    season='2023-24', \n",
    "    season_type_all_star='Regular Season',\n",
    "    player_or_team='Player',\n",
    "    pt_measure_type='PaintTouch',\n",
    "    per_mode_simple='PerGame'\n",
    ")\n",
    "\n",
    "paint_touch_player_stats_df = paint_touch_player_stats.get_data_frames()[0]\n",
    "print(paint_touch_player_stats_df.columns)\n",
    "paint_touch_player_stats_df"
   ]
  },
  {
   "cell_type": "code",
   "execution_count": null,
   "id": "67628b8f",
   "metadata": {},
   "outputs": [],
   "source": [
    "possessions_player_stats = leaguedashptstats.LeagueDashPtStats(\n",
    "    season='2023-24', \n",
    "    season_type_all_star='Regular Season',\n",
    "    player_or_team='Player',\n",
    "    pt_measure_type='Possessions',\n",
    "    per_mode_simple='PerGame'\n",
    ")\n",
    "\n",
    "possessions_player_stats_df = possessions_player_stats.get_data_frames()[0]\n",
    "print(possessions_player_stats_df.columns)\n",
    "possessions_player_stats_df"
   ]
  },
  {
   "cell_type": "code",
   "execution_count": null,
   "id": "9aaa211a",
   "metadata": {},
   "outputs": [],
   "source": [
    "passing_player_stats = leaguedashptstats.LeagueDashPtStats(\n",
    "    season='2023-24', \n",
    "    season_type_all_star='Regular Season',\n",
    "    player_or_team='Player',\n",
    "    pt_measure_type='Passing',\n",
    "    per_mode_simple='PerGame'\n",
    ")\n",
    "\n",
    "passing_player_stats_df = passing_player_stats.get_data_frames()[0]\n",
    "print(passing_player_stats_df.columns)\n",
    "passing_player_stats_df"
   ]
  },
  {
   "cell_type": "code",
   "execution_count": null,
   "id": "bf2dabb0",
   "metadata": {},
   "outputs": [],
   "source": [
    "from nba_api.stats.endpoints import synergyplaytypes"
   ]
  },
  {
   "cell_type": "code",
   "execution_count": null,
   "id": "8d233e1d",
   "metadata": {},
   "outputs": [],
   "source": [
    "isolation_player_stats = synergyplaytypes.SynergyPlayTypes(\n",
    "    play_type_nullable='Isolation', \n",
    "    player_or_team_abbreviation='P', \n",
    "    type_grouping_nullable='Offensive', \n",
    "    season='2023-24', \n",
    "    season_type_all_star='Regular Season', \n",
    "    per_mode_simple='PerGame'\n",
    "    )\n",
    "\n",
    "isolation_player_stats_df = isolation_player_stats.get_data_frames()[0]\n",
    "print(isolation_player_stats_df.columns)\n",
    "isolation_player_stats_df"
   ]
  },
  {
   "cell_type": "code",
   "execution_count": null,
   "id": "954f7ec4",
   "metadata": {},
   "outputs": [],
   "source": [
    "from nba_api.stats.endpoints import leaguedashplayerclutch"
   ]
  },
  {
   "cell_type": "code",
   "execution_count": null,
   "id": "fcc3e1d8",
   "metadata": {},
   "outputs": [],
   "source": [
    "clutch_player_stats = leaguedashplayerclutch.LeagueDashPlayerClutch(\n",
    "    season='2023-24', \n",
    "    per_mode_detailed='Per100Possessions', \n",
    "    season_type_all_star='Regular Season',\n",
    "    measure_type_detailed_defense='Scoring',\n",
    "    clutch_time='Last 2 Minutes',\n",
    "    ahead_behind='Behind or Tied'\n",
    ")\n",
    "\n",
    "clutch_player_stats_df = clutch_player_stats.get_data_frames()[0]\n",
    "print(clutch_player_stats_df.columns)\n",
    "clutch_player_stats_df"
   ]
  },
  {
   "cell_type": "code",
   "execution_count": null,
   "id": "091cf16b",
   "metadata": {},
   "outputs": [],
   "source": [
    "# from nba_api.stats.endpoints import homepageleaders"
   ]
  },
  {
   "cell_type": "code",
   "execution_count": null,
   "id": "9cad7776",
   "metadata": {},
   "outputs": [],
   "source": [
    "# fast_break_player_stats = homepageleaders.HomePageLeaders(\n",
    "#     season='2023-24', \n",
    "#     season_type_playoffs='Regular Season',\n",
    "#     player_or_team='Player',\n",
    "#     game_scope_detailed='Season',\n",
    "#     stat_category='Fast Break'\n",
    "# )\n",
    "\n",
    "# fast_break_player_stats_df = fast_break_player_stats.get_data_frames()[0]\n",
    "# print(fast_break_player_stats_df.columns)\n",
    "# fast_break_player_stats_df"
   ]
  },
  {
   "cell_type": "code",
   "execution_count": 1,
   "id": "54daf9d5",
   "metadata": {},
   "outputs": [],
   "source": [
    "from nba_api.stats.endpoints import leaguedashplayershotlocations"
   ]
  },
  {
   "cell_type": "code",
   "execution_count": 2,
   "id": "b8c9349c",
   "metadata": {},
   "outputs": [],
   "source": [
    "shot_location_player_stats = leaguedashplayershotlocations.LeagueDashPlayerShotLocations(\n",
    "    season='2023-24', \n",
    "    season_type_all_star='Regular Season',\n",
    "    per_mode_detailed='Per100Possessions',\n",
    ")"
   ]
  },
  {
   "cell_type": "code",
   "execution_count": 3,
   "id": "e6c72775",
   "metadata": {},
   "outputs": [
    {
     "data": {
      "text/plain": [
       "MultiIndex([(                     '',         'PLAYER_ID'),\n",
       "            (                     '',       'PLAYER_NAME'),\n",
       "            (                     '',           'TEAM_ID'),\n",
       "            (                     '', 'TEAM_ABBREVIATION'),\n",
       "            (                     '',               'AGE'),\n",
       "            (                     '',          'NICKNAME'),\n",
       "            (      'Restricted Area',               'FGM'),\n",
       "            (      'Restricted Area',               'FGA'),\n",
       "            (      'Restricted Area',            'FG_PCT'),\n",
       "            ('In The Paint (Non-RA)',               'FGM'),\n",
       "            ('In The Paint (Non-RA)',               'FGA'),\n",
       "            ('In The Paint (Non-RA)',            'FG_PCT'),\n",
       "            (            'Mid-Range',               'FGM'),\n",
       "            (            'Mid-Range',               'FGA'),\n",
       "            (            'Mid-Range',            'FG_PCT'),\n",
       "            (        'Left Corner 3',               'FGM'),\n",
       "            (        'Left Corner 3',               'FGA'),\n",
       "            (        'Left Corner 3',            'FG_PCT'),\n",
       "            (       'Right Corner 3',               'FGM'),\n",
       "            (       'Right Corner 3',               'FGA'),\n",
       "            (       'Right Corner 3',            'FG_PCT'),\n",
       "            (    'Above the Break 3',               'FGM'),\n",
       "            (    'Above the Break 3',               'FGA'),\n",
       "            (    'Above the Break 3',            'FG_PCT'),\n",
       "            (            'Backcourt',               'FGM'),\n",
       "            (            'Backcourt',               'FGA'),\n",
       "            (            'Backcourt',            'FG_PCT'),\n",
       "            (             'Corner 3',               'FGM'),\n",
       "            (             'Corner 3',               'FGA'),\n",
       "            (             'Corner 3',            'FG_PCT')],\n",
       "           names=['SHOT_CATEGORY', 'columns'])"
      ]
     },
     "execution_count": 3,
     "metadata": {},
     "output_type": "execute_result"
    }
   ],
   "source": [
    "shot_location_player_stats_df = shot_location_player_stats.get_data_frames()[0]\n",
    "mid_range_player_stats_df = shot_location_player_stats_df.loc[:, 'Mid-Range']\n",
    "shot_location_player_stats_df.columns"
   ]
  },
  {
   "cell_type": "code",
   "execution_count": 4,
   "id": "f2a6f5e3",
   "metadata": {},
   "outputs": [
    {
     "data": {
      "text/html": [
       "<div>\n",
       "<style scoped>\n",
       "    .dataframe tbody tr th:only-of-type {\n",
       "        vertical-align: middle;\n",
       "    }\n",
       "\n",
       "    .dataframe tbody tr th {\n",
       "        vertical-align: top;\n",
       "    }\n",
       "\n",
       "    .dataframe thead th {\n",
       "        text-align: right;\n",
       "    }\n",
       "</style>\n",
       "<table border=\"1\" class=\"dataframe\">\n",
       "  <thead>\n",
       "    <tr style=\"text-align: right;\">\n",
       "      <th>columns</th>\n",
       "      <th>MID_RANGE_PTS</th>\n",
       "      <th>MID_RANGE_PTS</th>\n",
       "      <th>MID_RANGE_PTS</th>\n",
       "    </tr>\n",
       "  </thead>\n",
       "  <tbody>\n",
       "    <tr>\n",
       "      <th>0</th>\n",
       "      <td>2.0</td>\n",
       "      <td>3.0</td>\n",
       "      <td>0.667</td>\n",
       "    </tr>\n",
       "    <tr>\n",
       "      <th>1</th>\n",
       "      <td>3.2</td>\n",
       "      <td>6.4</td>\n",
       "      <td>0.500</td>\n",
       "    </tr>\n",
       "    <tr>\n",
       "      <th>2</th>\n",
       "      <td>3.6</td>\n",
       "      <td>10.7</td>\n",
       "      <td>0.333</td>\n",
       "    </tr>\n",
       "    <tr>\n",
       "      <th>3</th>\n",
       "      <td>1.2</td>\n",
       "      <td>4.2</td>\n",
       "      <td>0.297</td>\n",
       "    </tr>\n",
       "    <tr>\n",
       "      <th>4</th>\n",
       "      <td>5.4</td>\n",
       "      <td>10.5</td>\n",
       "      <td>0.511</td>\n",
       "    </tr>\n",
       "    <tr>\n",
       "      <th>...</th>\n",
       "      <td>...</td>\n",
       "      <td>...</td>\n",
       "      <td>...</td>\n",
       "    </tr>\n",
       "    <tr>\n",
       "      <th>567</th>\n",
       "      <td>8.1</td>\n",
       "      <td>17.0</td>\n",
       "      <td>0.476</td>\n",
       "    </tr>\n",
       "    <tr>\n",
       "      <th>568</th>\n",
       "      <td>5.7</td>\n",
       "      <td>13.2</td>\n",
       "      <td>0.429</td>\n",
       "    </tr>\n",
       "    <tr>\n",
       "      <th>569</th>\n",
       "      <td>0.0</td>\n",
       "      <td>2.2</td>\n",
       "      <td>0.000</td>\n",
       "    </tr>\n",
       "    <tr>\n",
       "      <th>570</th>\n",
       "      <td>5.2</td>\n",
       "      <td>15.2</td>\n",
       "      <td>0.341</td>\n",
       "    </tr>\n",
       "    <tr>\n",
       "      <th>571</th>\n",
       "      <td>0.4</td>\n",
       "      <td>2.5</td>\n",
       "      <td>0.176</td>\n",
       "    </tr>\n",
       "  </tbody>\n",
       "</table>\n",
       "<p>572 rows × 3 columns</p>\n",
       "</div>"
      ],
      "text/plain": [
       "columns  MID_RANGE_PTS  MID_RANGE_PTS  MID_RANGE_PTS\n",
       "0                  2.0            3.0          0.667\n",
       "1                  3.2            6.4          0.500\n",
       "2                  3.6           10.7          0.333\n",
       "3                  1.2            4.2          0.297\n",
       "4                  5.4           10.5          0.511\n",
       "..                 ...            ...            ...\n",
       "567                8.1           17.0          0.476\n",
       "568                5.7           13.2          0.429\n",
       "569                0.0            2.2          0.000\n",
       "570                5.2           15.2          0.341\n",
       "571                0.4            2.5          0.176\n",
       "\n",
       "[572 rows x 3 columns]"
      ]
     },
     "execution_count": 4,
     "metadata": {},
     "output_type": "execute_result"
    }
   ],
   "source": [
    "mid_range_player_stats_df = mid_range_player_stats_df.copy()\n",
    "mid_range_player_stats_df.rename(columns={'FGM': 'MID_RANGE_' + 'PTS'}, inplace=True)\n",
    "mid_range_player_stats_df.rename(columns={'FGA': 'MID_RANGE_' + 'PTS'}, inplace=True)\n",
    "mid_range_player_stats_df.rename(columns={'FG_PCT': 'MID_RANGE_' + 'PTS'}, inplace=True)\n",
    "mid_range_player_stats_df"
   ]
  },
  {
   "cell_type": "code",
   "execution_count": 6,
   "id": "c65b4ddc",
   "metadata": {},
   "outputs": [
    {
     "data": {
      "text/html": [
       "<div>\n",
       "<style scoped>\n",
       "    .dataframe tbody tr th:only-of-type {\n",
       "        vertical-align: middle;\n",
       "    }\n",
       "\n",
       "    .dataframe tbody tr th {\n",
       "        vertical-align: top;\n",
       "    }\n",
       "\n",
       "    .dataframe thead th {\n",
       "        text-align: right;\n",
       "    }\n",
       "</style>\n",
       "<table border=\"1\" class=\"dataframe\">\n",
       "  <thead>\n",
       "    <tr style=\"text-align: right;\">\n",
       "      <th>columns</th>\n",
       "      <th>PLAYER_ID</th>\n",
       "      <th>PLAYER_NAME</th>\n",
       "    </tr>\n",
       "  </thead>\n",
       "  <tbody>\n",
       "    <tr>\n",
       "      <th>0</th>\n",
       "      <td>1630639</td>\n",
       "      <td>A.J. Lawson</td>\n",
       "    </tr>\n",
       "    <tr>\n",
       "      <th>1</th>\n",
       "      <td>1631260</td>\n",
       "      <td>AJ Green</td>\n",
       "    </tr>\n",
       "    <tr>\n",
       "      <th>2</th>\n",
       "      <td>1631100</td>\n",
       "      <td>AJ Griffin</td>\n",
       "    </tr>\n",
       "    <tr>\n",
       "      <th>3</th>\n",
       "      <td>203932</td>\n",
       "      <td>Aaron Gordon</td>\n",
       "    </tr>\n",
       "    <tr>\n",
       "      <th>4</th>\n",
       "      <td>1628988</td>\n",
       "      <td>Aaron Holiday</td>\n",
       "    </tr>\n",
       "    <tr>\n",
       "      <th>...</th>\n",
       "      <td>...</td>\n",
       "      <td>...</td>\n",
       "    </tr>\n",
       "    <tr>\n",
       "      <th>567</th>\n",
       "      <td>203897</td>\n",
       "      <td>Zach LaVine</td>\n",
       "    </tr>\n",
       "    <tr>\n",
       "      <th>568</th>\n",
       "      <td>1630285</td>\n",
       "      <td>Zavier Simpson</td>\n",
       "    </tr>\n",
       "    <tr>\n",
       "      <th>569</th>\n",
       "      <td>1630192</td>\n",
       "      <td>Zeke Nnaji</td>\n",
       "    </tr>\n",
       "    <tr>\n",
       "      <th>570</th>\n",
       "      <td>1630533</td>\n",
       "      <td>Ziaire Williams</td>\n",
       "    </tr>\n",
       "    <tr>\n",
       "      <th>571</th>\n",
       "      <td>1629627</td>\n",
       "      <td>Zion Williamson</td>\n",
       "    </tr>\n",
       "  </tbody>\n",
       "</table>\n",
       "<p>572 rows × 2 columns</p>\n",
       "</div>"
      ],
      "text/plain": [
       "columns  PLAYER_ID      PLAYER_NAME\n",
       "0          1630639      A.J. Lawson\n",
       "1          1631260         AJ Green\n",
       "2          1631100       AJ Griffin\n",
       "3           203932     Aaron Gordon\n",
       "4          1628988    Aaron Holiday\n",
       "..             ...              ...\n",
       "567         203897      Zach LaVine\n",
       "568        1630285   Zavier Simpson\n",
       "569        1630192       Zeke Nnaji\n",
       "570        1630533  Ziaire Williams\n",
       "571        1629627  Zion Williamson\n",
       "\n",
       "[572 rows x 2 columns]"
      ]
     },
     "execution_count": 6,
     "metadata": {},
     "output_type": "execute_result"
    }
   ],
   "source": [
    "shot_location_players_ids_df = shot_location_player_stats_df.loc[:, [('', 'PLAYER_ID'), ('', 'PLAYER_NAME')]]\n",
    "shot_location_players_ids_df.columns = shot_location_players_ids_df.columns.droplevel(0)\n",
    "shot_location_players_ids_df"
   ]
  },
  {
   "cell_type": "code",
   "execution_count": 10,
   "id": "fb94876d",
   "metadata": {},
   "outputs": [
    {
     "data": {
      "text/html": [
       "<div>\n",
       "<style scoped>\n",
       "    .dataframe tbody tr th:only-of-type {\n",
       "        vertical-align: middle;\n",
       "    }\n",
       "\n",
       "    .dataframe tbody tr th {\n",
       "        vertical-align: top;\n",
       "    }\n",
       "\n",
       "    .dataframe thead th {\n",
       "        text-align: right;\n",
       "    }\n",
       "</style>\n",
       "<table border=\"1\" class=\"dataframe\">\n",
       "  <thead>\n",
       "    <tr style=\"text-align: right;\">\n",
       "      <th>columns</th>\n",
       "      <th>PLAYER_ID</th>\n",
       "      <th>PLAYER_NAME</th>\n",
       "      <th>MID_RANGE_PTS</th>\n",
       "      <th>MID_RANGE_PTS</th>\n",
       "      <th>MID_RANGE_PTS</th>\n",
       "    </tr>\n",
       "  </thead>\n",
       "  <tbody>\n",
       "    <tr>\n",
       "      <th>0</th>\n",
       "      <td>1630639</td>\n",
       "      <td>A.J. Lawson</td>\n",
       "      <td>2.0</td>\n",
       "      <td>3.0</td>\n",
       "      <td>0.667</td>\n",
       "    </tr>\n",
       "    <tr>\n",
       "      <th>1</th>\n",
       "      <td>1631260</td>\n",
       "      <td>AJ Green</td>\n",
       "      <td>3.2</td>\n",
       "      <td>6.4</td>\n",
       "      <td>0.500</td>\n",
       "    </tr>\n",
       "    <tr>\n",
       "      <th>2</th>\n",
       "      <td>1631100</td>\n",
       "      <td>AJ Griffin</td>\n",
       "      <td>3.6</td>\n",
       "      <td>10.7</td>\n",
       "      <td>0.333</td>\n",
       "    </tr>\n",
       "    <tr>\n",
       "      <th>3</th>\n",
       "      <td>203932</td>\n",
       "      <td>Aaron Gordon</td>\n",
       "      <td>1.2</td>\n",
       "      <td>4.2</td>\n",
       "      <td>0.297</td>\n",
       "    </tr>\n",
       "    <tr>\n",
       "      <th>4</th>\n",
       "      <td>1628988</td>\n",
       "      <td>Aaron Holiday</td>\n",
       "      <td>5.4</td>\n",
       "      <td>10.5</td>\n",
       "      <td>0.511</td>\n",
       "    </tr>\n",
       "    <tr>\n",
       "      <th>...</th>\n",
       "      <td>...</td>\n",
       "      <td>...</td>\n",
       "      <td>...</td>\n",
       "      <td>...</td>\n",
       "      <td>...</td>\n",
       "    </tr>\n",
       "    <tr>\n",
       "      <th>567</th>\n",
       "      <td>203897</td>\n",
       "      <td>Zach LaVine</td>\n",
       "      <td>8.1</td>\n",
       "      <td>17.0</td>\n",
       "      <td>0.476</td>\n",
       "    </tr>\n",
       "    <tr>\n",
       "      <th>568</th>\n",
       "      <td>1630285</td>\n",
       "      <td>Zavier Simpson</td>\n",
       "      <td>5.7</td>\n",
       "      <td>13.2</td>\n",
       "      <td>0.429</td>\n",
       "    </tr>\n",
       "    <tr>\n",
       "      <th>569</th>\n",
       "      <td>1630192</td>\n",
       "      <td>Zeke Nnaji</td>\n",
       "      <td>0.0</td>\n",
       "      <td>2.2</td>\n",
       "      <td>0.000</td>\n",
       "    </tr>\n",
       "    <tr>\n",
       "      <th>570</th>\n",
       "      <td>1630533</td>\n",
       "      <td>Ziaire Williams</td>\n",
       "      <td>5.2</td>\n",
       "      <td>15.2</td>\n",
       "      <td>0.341</td>\n",
       "    </tr>\n",
       "    <tr>\n",
       "      <th>571</th>\n",
       "      <td>1629627</td>\n",
       "      <td>Zion Williamson</td>\n",
       "      <td>0.4</td>\n",
       "      <td>2.5</td>\n",
       "      <td>0.176</td>\n",
       "    </tr>\n",
       "  </tbody>\n",
       "</table>\n",
       "<p>572 rows × 5 columns</p>\n",
       "</div>"
      ],
      "text/plain": [
       "columns  PLAYER_ID      PLAYER_NAME  MID_RANGE_PTS  MID_RANGE_PTS   \n",
       "0          1630639      A.J. Lawson            2.0            3.0  \\\n",
       "1          1631260         AJ Green            3.2            6.4   \n",
       "2          1631100       AJ Griffin            3.6           10.7   \n",
       "3           203932     Aaron Gordon            1.2            4.2   \n",
       "4          1628988    Aaron Holiday            5.4           10.5   \n",
       "..             ...              ...            ...            ...   \n",
       "567         203897      Zach LaVine            8.1           17.0   \n",
       "568        1630285   Zavier Simpson            5.7           13.2   \n",
       "569        1630192       Zeke Nnaji            0.0            2.2   \n",
       "570        1630533  Ziaire Williams            5.2           15.2   \n",
       "571        1629627  Zion Williamson            0.4            2.5   \n",
       "\n",
       "columns  MID_RANGE_PTS  \n",
       "0                0.667  \n",
       "1                0.500  \n",
       "2                0.333  \n",
       "3                0.297  \n",
       "4                0.511  \n",
       "..                 ...  \n",
       "567              0.476  \n",
       "568              0.429  \n",
       "569              0.000  \n",
       "570              0.341  \n",
       "571              0.176  \n",
       "\n",
       "[572 rows x 5 columns]"
      ]
     },
     "execution_count": 10,
     "metadata": {},
     "output_type": "execute_result"
    }
   ],
   "source": [
    "final_mid_range_df = pd.concat([shot_location_players_ids_df, mid_range_player_stats_df], axis=1)\n",
    "final_mid_range_df"
   ]
  },
  {
   "cell_type": "code",
   "execution_count": null,
   "id": "fb50a68b",
   "metadata": {},
   "outputs": [],
   "source": []
  },
  {
   "cell_type": "code",
   "execution_count": 8,
   "id": "98359df9",
   "metadata": {},
   "outputs": [],
   "source": [
    "import pandas as pd"
   ]
  },
  {
   "cell_type": "code",
   "execution_count": null,
   "id": "b2af3c46",
   "metadata": {},
   "outputs": [],
   "source": []
  }
 ],
 "metadata": {
  "kernelspec": {
   "display_name": "Python 3 (ipykernel)",
   "language": "python",
   "name": "python3"
  },
  "language_info": {
   "codemirror_mode": {
    "name": "ipython",
    "version": 3
   },
   "file_extension": ".py",
   "mimetype": "text/x-python",
   "name": "python",
   "nbconvert_exporter": "python",
   "pygments_lexer": "ipython3",
   "version": "3.10.4"
  }
 },
 "nbformat": 4,
 "nbformat_minor": 5
}
