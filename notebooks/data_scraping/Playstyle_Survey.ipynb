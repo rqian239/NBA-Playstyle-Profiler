{
 "cells": [
  {
   "cell_type": "code",
   "execution_count": 41,
   "id": "8417daf6",
   "metadata": {},
   "outputs": [
    {
     "name": "stdout",
     "output_type": "stream",
     "text": [
      "Cleaned Boston Celtics Data:\n",
      "  % of FGA by Distance % of FGA by Distance.1 % of FGA by Distance.2  \\\n",
      "0                   2P                    0-3                   3-10   \n",
      "1                 .573                   .222                   .167   \n",
      "2                 .410                   .114                   .191   \n",
      "3                 .674                   .244                   .232   \n",
      "4                 .533                   .163                   .215   \n",
      "\n",
      "  % of FGA by Distance.3 % of FGA by Distance.4 % of FGA by Distance.5  \\\n",
      "0                  10-16                  16-3P                     3P   \n",
      "1                   .092                   .092                   .427   \n",
      "2                   .079                   .023                   .590   \n",
      "3                   .118                   .069                   .326   \n",
      "4                   .097                   .051                   .467   \n",
      "\n",
      "  FG% by Distance FG% by Distance.1 FG% by Distance.2 FG% by Distance.3  \\\n",
      "0              2P               0-3              3-10             10-16   \n",
      "1            .542              .741              .441              .389   \n",
      "2            .555              .771              .506              .364   \n",
      "3            .570              .723              .486              .520   \n",
      "4            .526              .688              .480              .403   \n",
      "\n",
      "  FG% by Distance.4 FG% by Distance.5 % of FG Ast'd % of FG Ast'd.1 Dunks  \\\n",
      "0             16-3P                3P            2P              3P  %FGA   \n",
      "1              .397              .376          .357            .485  .065   \n",
      "2              .526              .396          .414            .796  .015   \n",
      "3              .391              .354          .419            .628  .074   \n",
      "4              .429              .429          .456            .739  .010   \n",
      "\n",
      "  Dunks.1 Corner 3s Corner 3s.1 Heaves Heaves.1  \n",
      "0       #      %3PA         3P%   Att.        #  \n",
      "1      86      .059        .361      0        0  \n",
      "2      13      .200        .424      0        0  \n",
      "3      75      .202        .373      0        0  \n",
      "4       5      .255        .610      1        0  \n",
      "\n",
      "Cleaned Miami Heat Data:\n",
      "  % of FGA by Distance % of FGA by Distance.1 % of FGA by Distance.2  \\\n",
      "0                   2P                    0-3                   3-10   \n",
      "1                 .959                   .239                   .363   \n",
      "2                 .710                   .284                   .337   \n",
      "3                 .817                   .265                   .347   \n",
      "4                 .299                   .121                   .144   \n",
      "\n",
      "  % of FGA by Distance.3 % of FGA by Distance.4 % of FGA by Distance.5  \\\n",
      "0                  10-16                  16-3P                     3P   \n",
      "1                   .276                   .067                   .041   \n",
      "2                   .067                   .019                   .290   \n",
      "3                   .135                   .054                   .183   \n",
      "4                   .027                   .007                   .701   \n",
      "\n",
      "  FG% by Distance FG% by Distance.1 FG% by Distance.2 FG% by Distance.3  \\\n",
      "0              2P               0-3              3-10             10-16   \n",
      "1            .528              .741              .512              .406   \n",
      "2            .558              .667              .506              .447   \n",
      "3            .519              .681              .469              .374   \n",
      "4            .579              .695              .526              .444   \n",
      "\n",
      "  FG% by Distance.4 FG% by Distance.5 % of FG Ast'd % of FG Ast'd.1 Dunks  \\\n",
      "0             16-3P                3P            2P              3P  %FGA   \n",
      "1              .368              .357          .569            .933  .148   \n",
      "2              .231              .322          .529            .969  .050   \n",
      "3              .419              .414          .443            .783  .057   \n",
      "4              .200              .395          .752            .914  .004   \n",
      "\n",
      "  Dunks.1 Corner 3s Corner 3s.1 Heaves Heaves.1  \n",
      "0       #      %3PA         3P%   Att.        #  \n",
      "1     134      .119        .600      0        0  \n",
      "2      29      .510        .320      4        0  \n",
      "3      41      .462        .448      0        0  \n",
      "4       3      .222        .419      2        0  \n"
     ]
    }
   ],
   "source": [
    "import pandas as pd\n",
    "import numpy as np\n",
    "\n",
    "# Reading the data\n",
    "celtics_df = pd.read_csv(\"./Boston_shooting.csv\")\n",
    "heat_df = pd.read_csv(\"./Heat_shooting.csv\")\n",
    "\n",
    "def clean_data(df):\n",
    "    # Drop columns with excessive NaN values or that are unnamed\n",
    "    df = df.dropna(axis=1, thresh=int(0.5 * len(df)))  # Drop cols with >50% NaN\n",
    "    df = df.loc[:, ~df.columns.str.contains('^Unnamed')]  # Drop 'Unnamed' columns\n",
    "    return df\n",
    "\n",
    "# Apply cleaning function to both datasets\n",
    "celtics_df_cleaned = clean_data(celtics_df)\n",
    "heat_df_cleaned = clean_data(heat_df)\n",
    "\n",
    "# We need to ensure that both datasets have the same columns if they are to be used in comparison/prediction\n",
    "common_cols = celtics_df_cleaned.columns.intersection(heat_df_cleaned.columns)\n",
    "celtics_df_cleaned = celtics_df_cleaned[common_cols]\n",
    "heat_df_cleaned = heat_df_cleaned[common_cols]\n",
    "\n",
    "# Example printout to verify the data after cleaning\n",
    "print(\"Cleaned Boston Celtics Data:\")\n",
    "print(celtics_df_cleaned.head())\n",
    "print(\"\\nCleaned Miami Heat Data:\")\n",
    "print(heat_df_cleaned.head())\n",
    "\n",
    "# From here, we would need the actual game outcomes to proceed with model building\n",
    "# Assuming game outcomes are provided and loaded into a DataFrame 'outcomes_df'\n",
    "# This DataFrame would need a 'game_id', 'team', and 'outcome' (1 for win, 0 for loss)\n",
    "\n",
    "# For demonstration, let's proceed to setting up the modeling environment assuming 'outcomes_df' is ready\n",
    "# (Actual implementation would depend on the availability of this data)\n"
   ]
  },
  {
   "cell_type": "code",
   "execution_count": 48,
   "id": "e5d3a981",
   "metadata": {},
   "outputs": [
    {
     "data": {
      "image/png": "[encoded data removed]",
      "text/plain": [
       "<Figure size 640x480 with 1 Axes>"
      ]
     },
     "metadata": {},
     "output_type": "display_data"
    },
    {
     "name": "stdout",
     "output_type": "stream",
     "text": [
      "Good_3pt_Shooter\n",
      "0    33\n",
      "Name: count, dtype: int64\n"
     ]
    }
   ],
   "source": [
    "import matplotlib.pyplot as plt\n",
    "\n",
    "# Check the distribution of 'Corner_3s%'\n",
    "plt.hist(data['Corner_3s%'], bins=10)\n",
    "plt.title('Distribution of Corner 3s Shooting Percentage')\n",
    "plt.xlabel('Corner 3s Shooting Percentage')\n",
    "plt.ylabel('Frequency')\n",
    "plt.show()\n",
    "\n",
    "# Revising the threshold based on the distribution\n",
    "# Let's assume from the histogram we see that a threshold of 20% might be more appropriate\n",
    "data['Good_3pt_Shooter'] = (data['Corner_3s%'] > 20).astype(int)\n",
    "\n",
    "# Checking the balance of the new target variable\n",
    "print(data['Good_3pt_Shooter'].value_counts())\n",
    "\n",
    "# If the revised target variable has more than one class, repeat the logistic regression setup\n"
   ]
  },
  {
   "cell_type": "code",
   "execution_count": 58,
   "id": "46b359d4",
   "metadata": {},
   "outputs": [
    {
     "name": "stdout",
     "output_type": "stream",
     "text": [
      "Final score: Heat: 109.82742857142856 Celtics: 123.0281052631579\n"
     ]
    }
   ],
   "source": [
    "import pandas as pd\n",
    "\n",
    "heat_df = pd.read_csv(\"./Heat_shooting (1).csv\")\n",
    "boston_df = pd.read_csv(\"./Boston_shooting (1).csv\")\n",
    "\n",
    "heat_mean_stats = heat_df.drop(columns=[\"Player\", \"Age\", \"G\", \"MP\"]).mean()\n",
    "boston_mean_stats = boston_df.drop(columns=[\"Player\", \"Age\", \"G\", \"MP\"]).mean()\n",
    "\n",
    "heat_mean_stats, boston_mean_stats\n",
    "\n",
    "# Assumptions based on NBA gameplay data \n",
    "FGA = 90  # Median field goal attempts per game by team\n",
    "three_point_attempts = FGA * 0.40 \n",
    "two_point_attempts = FGA * 0.60  \n",
    "FTA = 22  # Median free throw attempts per game by team \n",
    "FT_percent = 0.75  # Average free throw percentage \n",
    "\n",
    "# Estimated scoring calculation for each team \n",
    "heat_points_from_3P = heat_mean_stats['3P'] * three_point_attempts * 3\n",
    "heat_points_from_2P = heat_mean_stats['2P'] * two_point_attempts * 2\n",
    "heat_total_points = heat_points_from_3P + heat_points_from_2P\n",
    "\n",
    "boston_points_from_3P = boston_mean_stats['3P'] * three_point_attempts * 3\n",
    "boston_points_from_2P = boston_mean_stats['2P'] * two_point_attempts * 2\n",
    "boston_total_points = boston_points_from_3P + boston_points_from_2P\n",
    "\n",
    "# Estimated scoring from free throws for each team \n",
    "heat_points_from_FT = FTA * FT_percent\n",
    "boston_points_from_FT = FTA * FT_percent\n",
    "\n",
    "# Total points calculation including free throws\n",
    "heat_total_points_with_FT = heat_total_points + heat_points_from_FT\n",
    "boston_total_points_with_FT = boston_total_points + boston_points_from_FT\n",
    "\n",
    "heat_total_points_with_FT, boston_total_points_with_FT\n",
    "print(\"Final score:\", \"Heat:\", heat_total_points_with_FT, \"Celtics:\", boston_total_points_with_FT)"
   ]
  },
  {
   "cell_type": "code",
   "execution_count": null,
   "id": "1f794dcc",
   "metadata": {},
   "outputs": [],
   "source": []
  }
 ],
 "metadata": {
  "kernelspec": {
   "display_name": "Python 3 (ipykernel)",
   "language": "python",
   "name": "python3"
  },
  "language_info": {
   "codemirror_mode": {
    "name": "ipython",
    "version": 3
   },
   "file_extension": ".py",
   "mimetype": "text/x-python",
   "name": "python",
   "nbconvert_exporter": "python",
   "pygments_lexer": "ipython3",
   "version": "3.11.5"
  }
 },
 "nbformat": 4,
 "nbformat_minor": 5
}
