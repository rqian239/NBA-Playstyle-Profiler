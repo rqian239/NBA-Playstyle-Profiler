def get_user_input(question):
    while True:
        try:
            response = int(input(question))
            if 0 <= response <= 100:
                return response
            else:
                print("Please enter a value between 0 and 100.")
        except ValueError:
            print("Invalid input. Please enter a numerical value.")

def basketball_survey():
    print("Welcome to the Basketball Play Style Profilier Survey!")
    print("Please rate the following aspects of your basketball play from 0 to 100:")
    
    scoring = get_user_input("Scoring ability: How skilled of a scorer are you? ")
    rebounding = get_user_input("Rebounding skill: How skilled are you at getting the ball off missed shots? ")
    passing = get_user_input("Passing skill: How good are you at setting up teammates for scoring opportunities? ")
    board_activity = get_user_input("Activity on the boards: How actively do you pursue rebounds? ")
    steals = get_user_input("Defensive hands: How skilled are you at stealing the ball from opponents? ")
    blocks = get_user_input("Rim protection: How skilled are you at blocking opponents' shots? ")
    shooting_efficiency = get_user_input("Shooting efficiency: How efficient of a shooter are you? ")
    catch_shoot = get_user_input("Catch and shoot: How good is your catch and shoot game? ")
    ball_handling = get_user_input("Ball handling: How often do you have the ball in your hands? ")
    passing_rating = get_user_input("Advanced passing: How often do you pass the ball? ")
    turnover_ratio = get_user_input("Turnover percentage: How often do you turn the ball over? ")
    three_point_shooting = get_user_input("Three-point frequency: How often do you shoot 3-pointers? ")
    post_up = get_user_input("Post-up frequency: How often do you post-up? ")
    driving = get_user_input("Driving frequency: How often do you drive the ball? ")
    mid_range_shooting = get_user_input("Mid-range shooting frequency: How often do you shoot from mid-range? ")
    defense_rating = get_user_input("Defensive effectiveness: How good of a defender are you? ")
    clutch_performance = get_user_input("Clutch performance: How clutch are you? ")
    fast_break = get_user_input("Fast break points: How often do you score on fast breaks? ")
    second_chance = get_user_input("Second chance points: How often do you score on second chance opportunities? ")
    
    # Return the collected data as a dictionary
    return {
        "Scoring": scoring,
        "Rebounding": rebounding,
        "Passing": passing,
        "Board Activity": board_activity,
        "Steals": steals,
        "Blocks": blocks,
        "Shooting Efficiency": shooting_efficiency,
        "Catch and Shoot": catch_shoot,
        "Ball Handling": ball_handling,
        "Passing Rating": passing_rating,
        "Turnover Ratio": turnover_ratio,
        "Three-Point Shooting": three_point_shooting,
        "Post-Up": post_up,
        "Driving": driving,
        "Mid-Range Shooting": mid_range_shooting,
        "Defense Rating": defense_rating,
        "Clutch Performance": clutch_performance,
        "Fast Break": fast_break,
        "Second Chance": second_chance
    }

# Run the survey
if __name__ == "__main__":
    user_profile = basketball_survey()
