{
 "cells": [
  {
   "cell_type": "code",
   "execution_count": 1,
   "id": "244f5991",
   "metadata": {},
   "outputs": [],
   "source": [
    "def get_user_input(question):\n",
    "    while True:\n",
    "        try:\n",
    "            response = int(input(question))\n",
    "            if 0 <= response <= 100:\n",
    "                return response\n",
    "            else:\n",
    "                print(\"Please enter an number between 0 and 100.\")\n",
    "        except ValueError:\n",
    "            print(\"Invalid input. Please enter a valid integer value.\")"
   ]
  },
  {
   "cell_type": "code",
   "execution_count": null,
   "id": "6c351877",
   "metadata": {},
   "outputs": [],
   "source": [
    "def print_instructions():\n",
    "    print(\"Welcome to the NBA Basketball PlayStyle Profiler Survey!\")\n",
    "    print(30 * -)\n",
    "    print(\"We will prompt you with some questions about your basketball playstyle and overall skill.\")\n",
    "    print(\"\")\n",
    "    print(\"We will ask you to rate yourself from 0 to 100 for each question. Your rating will represent your opinion for the percentile for that skill.\")\n",
    "    print(\"For example, if you rated yourself an 80 for catch and shoot ability, you believe that you are better than or as good as 80% for players in catch/shoot scenarios.\")\n",
    "    print(\"\")\n",
    "    print(\"Adjust your rating scale for the people you play with most frequently.\")\n",
    "    print(\"Please answer honestly for the best results.\")\n",
    "    print(\"\")\n",
    "    print(\"Please rate the following aspects of your basketball play from 0 to 100:\")\n",
    "\n",
    "def basketball_survey():    \n",
    "    scoring = get_user_input(\"Scoring ability: How skilled of a scorer are you?   \")\n",
    "    rebounding = get_user_input(\"Rebounding skill: How skilled are you at getting the ball off missed shots?   \")\n",
    "    playmaking = get_user_input(\"Playmaking skill: How good are you at setting up teammates for scoring opportunities?   \")\n",
    "    board_activity = get_user_input(\"Activity on the boards: How actively do you pursue rebounds?   \")\n",
    "    steals = get_user_input(\"Defensive hands: How skilled are you at stealing the ball from opponents?   \")\n",
    "    blocks = get_user_input(\"Rim protection: How skilled are you at blocking opponents' shots?   \")\n",
    "    shooting_efficiency = get_user_input(\"Shooting efficiency: How efficient of a shooter are you?   \")\n",
    "    three_point_shooting_efficiency = get_user_input(\"3PT Shooting efficiency: How efficient of a 3PT shooter are you?   \")\n",
    "    catch_shoot = get_user_input(\"Catch and shoot: How good is your catch and shoot game?   \")\n",
    "    ball_handling = get_user_input(\"Ball handling: How well do you handle the ball?   \")\n",
    "    passing_rating = get_user_input(\"Advanced passing: How well/often do you pass the ball?   \")\n",
    "    turnover_ratio = get_user_input(\"Turnovers: How well do you take care of the ball (prevent turnovers)?   \")\n",
    "    three_point_freq = get_user_input(\"Three-point frequency: How often do you shoot 3-pointers?   \")\n",
    "    post_up = get_user_input(\"Post-up frequency: How often do you post-up?   \")\n",
    "    driving = get_user_input(\"Driving frequency: How well do you score when driving into the paint?   \")\n",
    "    mid_range_shooting = get_user_input(\"Mid-range shooting frequency: How well/often do you shoot from mid-range?   \")\n",
    "    defense_rating = get_user_input(\"Defensive effectiveness: How good of an overall defender are you?   \")\n",
    "    clutch_performance = get_user_input(\"Clutch performance: How clutch are you? (How well do you score in clutch moments?)   \")\n",
    "    fast_break = get_user_input(\"Fast break points: How often do you score on fast breaks?   \")\n",
    "    second_chance = get_user_input(\"Second chance points: How often do you score on second chance opportunities?   \")\n",
    "    team_impact = get_user_input(\"Team impact: How impactful are you to your team's overall performance?   \")\n",
    "    \n",
    "    # Return the collected data as a dictionary\n",
    "    dict = {\n",
    "        \"SCORING\": scoring,\n",
    "        \"REBOUNDING\": rebounding,\n",
    "        \"PLAYMAKING\": playmaking,\n",
    "        \"BOARD_ACTIVITY\": board_activity,\n",
    "        \"STEALS\": steals,\n",
    "        \"BLOCKING\": blocks,\n",
    "        \"SHOOTING_EFFICIENCY\": shooting_efficiency,\n",
    "        \"3PT_SHOOTING_EFFICIENCY\": three_point_shooting_efficiency,\n",
    "        \"CATCH_AND_SHOOT\": catch_shoot,\n",
    "        \"BALL_HANDLING\": ball_handling,\n",
    "        \"PASSING\": passing_rating,\n",
    "        \"TURNOVERS\": turnover_ratio,\n",
    "        \"3PT_FREQ\": three_point_freq,\n",
    "        \"POST_UP\": post_up,\n",
    "        \"DRIVING\": driving,\n",
    "        \"MID-RANGE\": mid_range_shooting,\n",
    "        \"DEFENSE\": defense_rating,\n",
    "        \"CLUTCHNESS\": clutch_performance,\n",
    "        \"FAST_BREAK\": fast_break,\n",
    "        \"SECOND_CHANCE\": second_chance,\n",
    "        \"TEAM_IMPACT\": team_impact\n",
    "    }"
   ]
  },
  {
   "cell_type": "code",
   "execution_count": 5,
   "id": "1f794dcc",
   "metadata": {},
   "outputs": [
    {
     "name": "stdout",
     "output_type": "stream",
     "text": [
      "Welcome to the NBA Basketball PlayStyle Profiler Survey!\n",
      "\n",
      "We will prompt you with some questions about your basketball playstyle and overall skill.\n",
      "\n",
      "We will ask you to rate yourself from 0 to 100 for each question. Your rating will represent your opinion for the percentile for that skill.\n",
      "For example, if you rated yourself an 80 for catch and shoot ability, you believe that you are better than or as good as 80% for players in catch/shoot scenarios.\n",
      "\n",
      "Adjust your rating scale for the people you play with most frequently.\n",
      "Please answer honestly for the best results.\n",
      "\n",
      "Please rate the following aspects of your basketball play from 0 to 100:\n"
     ]
    },
    {
     "ename": "KeyboardInterrupt",
     "evalue": "Interrupted by user",
     "output_type": "error",
     "traceback": [
      "\u001b[1;31m---------------------------------------------------------------------------\u001b[0m",
      "\u001b[1;31mKeyboardInterrupt\u001b[0m                         Traceback (most recent call last)",
      "Cell \u001b[1;32mIn[5], line 63\u001b[0m\n\u001b[0;32m     61\u001b[0m \u001b[38;5;66;03m# Run the survey\u001b[39;00m\n\u001b[0;32m     62\u001b[0m \u001b[38;5;28;01mif\u001b[39;00m \u001b[38;5;18m__name__\u001b[39m \u001b[38;5;241m==\u001b[39m \u001b[38;5;124m\"\u001b[39m\u001b[38;5;124m__main__\u001b[39m\u001b[38;5;124m\"\u001b[39m:\n\u001b[1;32m---> 63\u001b[0m     user_profile \u001b[38;5;241m=\u001b[39m \u001b[43mbasketball_survey\u001b[49m\u001b[43m(\u001b[49m\u001b[43m)\u001b[49m\n",
      "Cell \u001b[1;32mIn[5], line 14\u001b[0m, in \u001b[0;36mbasketball_survey\u001b[1;34m()\u001b[0m\n\u001b[0;32m     11\u001b[0m \u001b[38;5;28mprint\u001b[39m(\u001b[38;5;124m\"\u001b[39m\u001b[38;5;124m\"\u001b[39m)\n\u001b[0;32m     12\u001b[0m \u001b[38;5;28mprint\u001b[39m(\u001b[38;5;124m\"\u001b[39m\u001b[38;5;124mPlease rate the following aspects of your basketball play from 0 to 100:\u001b[39m\u001b[38;5;124m\"\u001b[39m)\n\u001b[1;32m---> 14\u001b[0m scoring \u001b[38;5;241m=\u001b[39m \u001b[43mget_user_input\u001b[49m\u001b[43m(\u001b[49m\u001b[38;5;124;43m\"\u001b[39;49m\u001b[38;5;124;43mScoring ability: How skilled of a scorer are you?   \u001b[39;49m\u001b[38;5;124;43m\"\u001b[39;49m\u001b[43m)\u001b[49m\n\u001b[0;32m     15\u001b[0m rebounding \u001b[38;5;241m=\u001b[39m get_user_input(\u001b[38;5;124m\"\u001b[39m\u001b[38;5;124mRebounding skill: How skilled are you at getting the ball off missed shots?   \u001b[39m\u001b[38;5;124m\"\u001b[39m)\n\u001b[0;32m     16\u001b[0m playmaking \u001b[38;5;241m=\u001b[39m get_user_input(\u001b[38;5;124m\"\u001b[39m\u001b[38;5;124mPlaymaking skill: How good are you at setting up teammates for scoring opportunities?   \u001b[39m\u001b[38;5;124m\"\u001b[39m)\n",
      "Cell \u001b[1;32mIn[1], line 4\u001b[0m, in \u001b[0;36mget_user_input\u001b[1;34m(question)\u001b[0m\n\u001b[0;32m      2\u001b[0m \u001b[38;5;28;01mwhile\u001b[39;00m \u001b[38;5;28;01mTrue\u001b[39;00m:\n\u001b[0;32m      3\u001b[0m     \u001b[38;5;28;01mtry\u001b[39;00m:\n\u001b[1;32m----> 4\u001b[0m         response \u001b[38;5;241m=\u001b[39m \u001b[38;5;28mint\u001b[39m(\u001b[38;5;28;43minput\u001b[39;49m\u001b[43m(\u001b[49m\u001b[43mquestion\u001b[49m\u001b[43m)\u001b[49m)\n\u001b[0;32m      5\u001b[0m         \u001b[38;5;28;01mif\u001b[39;00m \u001b[38;5;241m0\u001b[39m \u001b[38;5;241m<\u001b[39m\u001b[38;5;241m=\u001b[39m response \u001b[38;5;241m<\u001b[39m\u001b[38;5;241m=\u001b[39m \u001b[38;5;241m100\u001b[39m:\n\u001b[0;32m      6\u001b[0m             \u001b[38;5;28;01mreturn\u001b[39;00m response\n",
      "File \u001b[1;32m~\\AppData\\Local\\Programs\\Python\\Python310\\lib\\site-packages\\ipykernel\\kernelbase.py:1182\u001b[0m, in \u001b[0;36mKernel.raw_input\u001b[1;34m(self, prompt)\u001b[0m\n\u001b[0;32m   1180\u001b[0m     msg \u001b[38;5;241m=\u001b[39m \u001b[38;5;124m\"\u001b[39m\u001b[38;5;124mraw_input was called, but this frontend does not support input requests.\u001b[39m\u001b[38;5;124m\"\u001b[39m\n\u001b[0;32m   1181\u001b[0m     \u001b[38;5;28;01mraise\u001b[39;00m StdinNotImplementedError(msg)\n\u001b[1;32m-> 1182\u001b[0m \u001b[38;5;28;01mreturn\u001b[39;00m \u001b[38;5;28;43mself\u001b[39;49m\u001b[38;5;241;43m.\u001b[39;49m\u001b[43m_input_request\u001b[49m\u001b[43m(\u001b[49m\n\u001b[0;32m   1183\u001b[0m \u001b[43m    \u001b[49m\u001b[38;5;28;43mstr\u001b[39;49m\u001b[43m(\u001b[49m\u001b[43mprompt\u001b[49m\u001b[43m)\u001b[49m\u001b[43m,\u001b[49m\n\u001b[0;32m   1184\u001b[0m \u001b[43m    \u001b[49m\u001b[38;5;28;43mself\u001b[39;49m\u001b[38;5;241;43m.\u001b[39;49m\u001b[43m_parent_ident\u001b[49m\u001b[43m[\u001b[49m\u001b[38;5;124;43m\"\u001b[39;49m\u001b[38;5;124;43mshell\u001b[39;49m\u001b[38;5;124;43m\"\u001b[39;49m\u001b[43m]\u001b[49m\u001b[43m,\u001b[49m\n\u001b[0;32m   1185\u001b[0m \u001b[43m    \u001b[49m\u001b[38;5;28;43mself\u001b[39;49m\u001b[38;5;241;43m.\u001b[39;49m\u001b[43mget_parent\u001b[49m\u001b[43m(\u001b[49m\u001b[38;5;124;43m\"\u001b[39;49m\u001b[38;5;124;43mshell\u001b[39;49m\u001b[38;5;124;43m\"\u001b[39;49m\u001b[43m)\u001b[49m\u001b[43m,\u001b[49m\n\u001b[0;32m   1186\u001b[0m \u001b[43m    \u001b[49m\u001b[43mpassword\u001b[49m\u001b[38;5;241;43m=\u001b[39;49m\u001b[38;5;28;43;01mFalse\u001b[39;49;00m\u001b[43m,\u001b[49m\n\u001b[0;32m   1187\u001b[0m \u001b[43m\u001b[49m\u001b[43m)\u001b[49m\n",
      "File \u001b[1;32m~\\AppData\\Local\\Programs\\Python\\Python310\\lib\\site-packages\\ipykernel\\kernelbase.py:1225\u001b[0m, in \u001b[0;36mKernel._input_request\u001b[1;34m(self, prompt, ident, parent, password)\u001b[0m\n\u001b[0;32m   1222\u001b[0m \u001b[38;5;28;01mexcept\u001b[39;00m \u001b[38;5;167;01mKeyboardInterrupt\u001b[39;00m:\n\u001b[0;32m   1223\u001b[0m     \u001b[38;5;66;03m# re-raise KeyboardInterrupt, to truncate traceback\u001b[39;00m\n\u001b[0;32m   1224\u001b[0m     msg \u001b[38;5;241m=\u001b[39m \u001b[38;5;124m\"\u001b[39m\u001b[38;5;124mInterrupted by user\u001b[39m\u001b[38;5;124m\"\u001b[39m\n\u001b[1;32m-> 1225\u001b[0m     \u001b[38;5;28;01mraise\u001b[39;00m \u001b[38;5;167;01mKeyboardInterrupt\u001b[39;00m(msg) \u001b[38;5;28;01mfrom\u001b[39;00m \u001b[38;5;28mNone\u001b[39m\n\u001b[0;32m   1226\u001b[0m \u001b[38;5;28;01mexcept\u001b[39;00m \u001b[38;5;167;01mException\u001b[39;00m:\n\u001b[0;32m   1227\u001b[0m     \u001b[38;5;28mself\u001b[39m\u001b[38;5;241m.\u001b[39mlog\u001b[38;5;241m.\u001b[39mwarning(\u001b[38;5;124m\"\u001b[39m\u001b[38;5;124mInvalid Message:\u001b[39m\u001b[38;5;124m\"\u001b[39m, exc_info\u001b[38;5;241m=\u001b[39m\u001b[38;5;28;01mTrue\u001b[39;00m)\n",
      "\u001b[1;31mKeyboardInterrupt\u001b[0m: Interrupted by user"
     ]
    }
   ],
   "source": [
    "# Run the survey\n",
    "if __name__ == \"__main__\":\n",
    "    print_instructions()\n",
    "    user_profile_df = basketball_survey()"
   ]
  },
  {
   "cell_type": "code",
   "execution_count": null,
   "id": "374e6ecd",
   "metadata": {},
   "outputs": [],
   "source": []
  }
 ],
 "metadata": {
  "kernelspec": {
   "display_name": "Python 3 (ipykernel)",
   "language": "python",
   "name": "python3"
  },
  "language_info": {
   "codemirror_mode": {
    "name": "ipython",
    "version": 3
   },
   "file_extension": ".py",
   "mimetype": "text/x-python",
   "name": "python",
   "nbconvert_exporter": "python",
   "pygments_lexer": "ipython3",
   "version": "3.10.4"
  }
 },
 "nbformat": 4,
 "nbformat_minor": 5
}
